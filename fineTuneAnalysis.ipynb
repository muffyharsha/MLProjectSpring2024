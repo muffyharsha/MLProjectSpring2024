{
 "cells": [
  {
   "cell_type": "code",
   "execution_count": 1,
   "id": "c9cea8a9-c964-4542-ac33-0d88a3eeea18",
   "metadata": {},
   "outputs": [],
   "source": [
    "import torch\n",
    "import torch.nn as nn\n",
    "import torchvision.transforms as transforms\n",
    "import matplotlib.pyplot as plt\n",
    "from fastcore.all import *\n",
    "from fastai.vision.all import *\n",
    "import torchvision\n",
    "from torch.optim.lr_scheduler import CosineAnnealingWarmRestarts\n",
    "from torch.utils.tensorboard import SummaryWriter\n",
    "from datetime import datetime\n",
    "from torch.utils.data import DataLoader,random_split\n",
    "from torchvision.datasets import ImageFolder\n",
    "import time\n",
    "from sklearn.metrics import precision_score, recall_score, f1_score\n",
    "import os\n",
    "from datetime import datetime\n",
    "import numpy as np\n",
    "import logging\n",
    "import sys\n",
    "import re\n",
    "from sendMsg import sendMessageToHeathcliff05botToAChat\n",
    "from makeGraphPlotsAndSendMsg import makeGraphAndSendPhoto"
   ]
  },
  {
   "cell_type": "code",
   "execution_count": 2,
   "id": "a3efd9d2-832f-4bc8-baa5-239a5e2f52a3",
   "metadata": {},
   "outputs": [],
   "source": [
    "class BasicBlock(nn.Module):\n",
    "    def __init__(self, input_planes, output_planes,stride,identityFlag):\n",
    "        super(BasicBlock, self).__init__()\n",
    "        self.conv1 = nn.Conv2d(input_planes, output_planes, kernel_size=(3, 3), stride=(stride, stride), padding=(1, 1), bias=False)\n",
    "        self.bn1 =  nn.BatchNorm2d(output_planes, eps=1e-05, momentum=0.1, affine=True, track_running_stats=True)\n",
    "        self.relu = nn.ReLU(inplace=True)\n",
    "        self.conv2 = nn.Conv2d(output_planes, output_planes, kernel_size=(3, 3), stride=(1, 1), padding=(1, 1), bias=False)\n",
    "        self.bn2 =  nn.BatchNorm2d(output_planes, eps=1e-05, momentum=0.1, affine=True, track_running_stats=True)\n",
    "\n",
    "        self.downsample = None\n",
    "        if identityFlag:\n",
    "            self.downsample = nn.Sequential(\n",
    "                nn.Conv2d(input_planes, output_planes, kernel_size=(1, 1), stride=(stride, stride), bias=False),\n",
    "                nn.BatchNorm2d(output_planes, eps=1e-05, momentum=0.1, affine=True, track_running_stats=True)\n",
    "            )\n",
    "\n",
    "    def forward(self, x):\n",
    "        identity = x\n",
    "        out = self.conv1(x)\n",
    "        out = self.bn1(out)\n",
    "        out = self.relu(out)\n",
    "        out = self.conv2(out)\n",
    "        out = self.bn2(out)\n",
    "        if self.downsample:\n",
    "            identity = self.downsample(x)\n",
    "        out = out + identity\n",
    "        out = self.relu(out)\n",
    "        return out\n",
    "\n",
    "\n",
    "class ResNet18(nn.Sequential):\n",
    "    def __init__(self):\n",
    "        super(ResNet18,self).__init__()\n",
    "        self.layer1 = nn.Sequential(\n",
    "                nn.Conv2d(3, 64, kernel_size=(7, 7), stride=(2, 2), padding=(3, 3), bias=False),\n",
    "                nn.BatchNorm2d(64, eps=1e-05, momentum=0.1, affine=True, track_running_stats=True),\n",
    "                nn.ReLU(inplace=True),\n",
    "                nn.MaxPool2d(kernel_size=3, stride=2, padding=1, dilation=1, ceil_mode=False),\n",
    "                nn.Sequential(\n",
    "                    BasicBlock(input_planes=64, output_planes=64,stride=1,identityFlag=False),\n",
    "                    BasicBlock(input_planes=64, output_planes=64,stride=1,identityFlag=False)\n",
    "                ),\n",
    "                nn.Sequential(\n",
    "                    BasicBlock(input_planes=64, output_planes=128, stride=2, identityFlag=True),\n",
    "                    BasicBlock(input_planes=128, output_planes=128, stride=1, identityFlag=False)\n",
    "                ),\n",
    "                nn.Sequential(\n",
    "                    BasicBlock(input_planes=128, output_planes=256, stride=2, identityFlag=True),\n",
    "                    BasicBlock(input_planes=256, output_planes=256, stride=1, identityFlag=False)\n",
    "                ),\n",
    "                nn.Sequential(\n",
    "                    BasicBlock(input_planes=256, output_planes=512, stride=2, identityFlag=True),\n",
    "                    BasicBlock(input_planes=512, output_planes=512, stride=1, identityFlag=False)\n",
    "                )\n",
    "            )\n",
    "\n",
    "        self.layer2 = nn.Sequential(\n",
    "                AdaptiveConcatPool2d(1),\n",
    "                Flatten(full=False),\n",
    "                nn.BatchNorm1d(1024, eps=1e-05, momentum=0.1, affine=True, track_running_stats=True),\n",
    "                nn.Dropout(p=0.25, inplace=False),\n",
    "                nn.Linear(in_features=1024, out_features=512, bias=False),\n",
    "                nn.ReLU(inplace=True),\n",
    "                nn.BatchNorm1d(512, eps=1e-05, momentum=0.1, affine=True, track_running_stats=True),\n",
    "                nn.Dropout(p=0.5, inplace=False),\n",
    "                nn.Linear(in_features=512, out_features=6, bias=False)\n",
    "            )\n",
    "        def forward(self,x):\n",
    "            out = self.layer1(x)\n",
    "            out = self.layer2(out)\n",
    "            return out"
   ]
  },
  {
   "cell_type": "code",
   "execution_count": 3,
   "id": "bb7530bc-9381-444e-9fa7-4c2c4d2caebe",
   "metadata": {},
   "outputs": [],
   "source": [
    "pstartTime = datetime.now()\n",
    "formatted_date_pstartTime = pstartTime.strftime('%Y-%m-%d %H:%M:%S')\n",
    "\n",
    "batch_size = 512\n",
    "lrn_rate = 0.001\n",
    "num_epochs = 50\n",
    "seed_value = 60\n",
    "wt_decay = 0\n",
    "file_path_to_save_stats = \"../stats/statsFullTrainResnetStrikesBack.csv\"\n",
    "file_path_to_save_model = \"../model/mlprojectFullTrainResnetStrikesBack.pth\"\n",
    "dataset_root = '../data/garmentStructuredData'\n",
    "log_file_path = \"../logs/\"+formatted_date_pstartTime+\".log\"\n",
    "dir_to_save_plots = \"../plots/\"+formatted_date_pstartTime+\".png\""
   ]
  },
  {
   "cell_type": "code",
   "execution_count": 4,
   "id": "a32a9513-7d74-438b-b331-806b962d76f1",
   "metadata": {},
   "outputs": [],
   "source": [
    "model = ResNet18()"
   ]
  },
  {
   "cell_type": "code",
   "execution_count": 5,
   "id": "b937701d-2c81-4c08-8aea-e7451cc6378c",
   "metadata": {},
   "outputs": [],
   "source": [
    "import safetensors"
   ]
  },
  {
   "cell_type": "code",
   "execution_count": 26,
   "id": "bab117ab-a8c6-446a-96fb-63a1daa703c9",
   "metadata": {
    "scrolled": true
   },
   "outputs": [],
   "source": [
    "tensors = {}\n",
    "with safetensors.safe_open(\"C:/Users/sriha/NEU/ML Project/models/imagenet_resnet18.safetensors\", framework=\"pt\") as f:\n",
    "    for k in f.keys():\n",
    "        tensors[k] = f.get_tensor(k)"
   ]
  },
  {
   "cell_type": "code",
   "execution_count": 27,
   "id": "c804f2eb-7f2a-4c1b-80d5-bd0fdf273346",
   "metadata": {},
   "outputs": [],
   "source": [
    "import json\n",
    "with open('C:/Users/sriha/NEU/ML Project/awsMLProject/finetune_model_param_map.json', 'r') as file:\n",
    "    mapDoc = json.load(file)"
   ]
  },
  {
   "cell_type": "code",
   "execution_count": 39,
   "id": "8631477b-f33e-4bd7-92d5-b5b4b6128ca9",
   "metadata": {},
   "outputs": [
    {
     "name": "stdout",
     "output_type": "stream",
     "text": [
      "layer2.2.weight param not copied\n",
      "layer2.2.bias param not copied\n",
      "layer2.4.weight param not copied\n",
      "layer2.6.weight param not copied\n",
      "layer2.6.bias param not copied\n",
      "layer2.8.weight param not copied\n"
     ]
    }
   ],
   "source": [
    "for name, param in model.named_parameters():\n",
    "    if name in mapDoc.keys():\n",
    "        param.data.copy_(tensors[mapDoc[name]])\n",
    "    else :\n",
    "        print(name,\"param not copied\")\n"
   ]
  },
  {
   "cell_type": "code",
   "execution_count": 38,
   "id": "b5723b4d-be9d-4e33-b8a7-631f86326a90",
   "metadata": {},
   "outputs": [
    {
     "name": "stdout",
     "output_type": "stream",
     "text": [
      "layer2.2.weight setting requires_grad True\n",
      "layer2.2.bias setting requires_grad True\n",
      "layer2.4.weight setting requires_grad True\n",
      "layer2.6.weight setting requires_grad True\n",
      "layer2.6.bias setting requires_grad True\n",
      "layer2.8.weight setting requires_grad True\n"
     ]
    }
   ],
   "source": [
    "for name, param in model.named_parameters():\n",
    "    param.requires_grad = False\n",
    "\n",
    "for name, param in model.named_parameters():\n",
    "    if re.search(\"layer2\",name):\n",
    "        print(name,\"setting requires_grad True\")\n",
    "        param.requires_grad = True\n"
   ]
  },
  {
   "cell_type": "code",
   "execution_count": null,
   "id": "33d1017e-73f8-4daa-a882-66f5a8cef73f",
   "metadata": {},
   "outputs": [],
   "source": []
  }
 ],
 "metadata": {
  "kernelspec": {
   "display_name": "Python 3 (ipykernel)",
   "language": "python",
   "name": "python3"
  },
  "language_info": {
   "codemirror_mode": {
    "name": "ipython",
    "version": 3
   },
   "file_extension": ".py",
   "mimetype": "text/x-python",
   "name": "python",
   "nbconvert_exporter": "python",
   "pygments_lexer": "ipython3",
   "version": "3.10.0rc2"
  }
 },
 "nbformat": 4,
 "nbformat_minor": 5
}
